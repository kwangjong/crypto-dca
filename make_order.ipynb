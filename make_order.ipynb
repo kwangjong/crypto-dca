{
 "cells": [
  {
   "cell_type": "code",
   "execution_count": 43,
   "id": "5dd2053a",
   "metadata": {},
   "outputs": [
    {
     "data": {
      "text/plain": [
       "True"
      ]
     },
     "execution_count": 43,
     "metadata": {},
     "output_type": "execute_result"
    }
   ],
   "source": [
    "import os\n",
    "from dotenv import load_dotenv\n",
    "from IPython.display import JSON\n",
    "import ccxt\n",
    "import logging\n",
    "from math import ceil\n",
    "\n",
    "logger = logging.getLogger()\n",
    "logger.setLevel(logging.INFO)\n",
    "\n",
    "load_dotenv()"
   ]
  },
  {
   "cell_type": "code",
   "execution_count": 20,
   "id": "03668d43",
   "metadata": {},
   "outputs": [],
   "source": [
    "class Portfolio:\n",
    "    def __init__(self, ratios, total_buy_volume_krw):\n",
    "        self.total_buy_volume_krw = total_buy_volume_krw\n",
    "        \n",
    "        self.portfolio = {}\n",
    "        for symbol, ratio in ratios.items():\n",
    "            self.portfolio[symbol] = {\n",
    "                'symbol': symbol,\n",
    "                'ratio' : ratio,\n",
    "                'buy_volume_krw': ratio * total_buy_volume_krw\n",
    "            }\n",
    "\n",
    "    def __iter__(self):\n",
    "        for val in self.portfolio.values():\n",
    "            yield val\n"
   ]
  },
  {
   "cell_type": "code",
   "execution_count": 38,
   "id": "460586b6",
   "metadata": {},
   "outputs": [],
   "source": [
    "ratios = {\n",
    "    'BTC/KRW': 0.5,\n",
    "    'ETH/KRW': 0.3,\n",
    "    'SOL/KRW': 0.1,\n",
    "    'LINK/KRW': 0.1\n",
    "}\n",
    "\n",
    "portfolio = Portfolio(ratios, 50000)"
   ]
  },
  {
   "cell_type": "code",
   "execution_count": 39,
   "id": "ab8f9a33",
   "metadata": {},
   "outputs": [
    {
     "data": {
      "text/plain": [
       "{'free': 300572.0, 'used': 0.0, 'total': 300572.0}"
      ]
     },
     "execution_count": 39,
     "metadata": {},
     "output_type": "execute_result"
    }
   ],
   "source": [
    "bithumb = ccxt.bithumb(config={\n",
    "    'apiKey': os.getenv(\"ACCESS_KEY\"),\n",
    "    'secret': os.getenv(\"SECRET_KEY\"),\n",
    "    'enableRateLimit': True\n",
    "})\n",
    "bithumb.fetch_balance()['KRW']"
   ]
  },
  {
   "cell_type": "code",
   "execution_count": 45,
   "id": "3d45f069",
   "metadata": {},
   "outputs": [
    {
     "name": "stderr",
     "output_type": "stream",
     "text": [
      "INFO:root:  Symbol: BTC/KRW, Ratio: 0.5, Buy_Amount_KRW: 25000.0 Buy_Amount_Symbol: 0.000163\n",
      "INFO:root:{'info': {'status': '0000', 'order_id': 'C0101000002336292159'}, 'symbol': 'BTC/KRW', 'type': 'market', 'side': 'buy', 'id': 'C0101000002336292159', 'fees': [], 'clientOrderId': None, 'timestamp': None, 'datetime': None, 'lastTradeTimestamp': None, 'lastUpdateTimestamp': None, 'price': None, 'amount': None, 'cost': None, 'average': None, 'filled': None, 'remaining': None, 'timeInForce': 'IOC', 'postOnly': None, 'trades': [], 'reduceOnly': None, 'stopPrice': None, 'triggerPrice': None, 'takeProfitPrice': None, 'stopLossPrice': None, 'status': None, 'fee': None}\n",
      "INFO:root:  Symbol: ETH/KRW, Ratio: 0.3, Buy_Amount_KRW: 15000.0 Buy_Amount_Symbol: 0.004057\n",
      "INFO:root:{'info': {'status': '0000', 'order_id': 'C0102000001084566431'}, 'symbol': 'ETH/KRW', 'type': 'market', 'side': 'buy', 'id': 'C0102000001084566431', 'fees': [], 'clientOrderId': None, 'timestamp': None, 'datetime': None, 'lastTradeTimestamp': None, 'lastUpdateTimestamp': None, 'price': None, 'amount': None, 'cost': None, 'average': None, 'filled': None, 'remaining': None, 'timeInForce': 'IOC', 'postOnly': None, 'trades': [], 'reduceOnly': None, 'stopPrice': None, 'triggerPrice': None, 'takeProfitPrice': None, 'stopLossPrice': None, 'status': None, 'fee': None}\n",
      "INFO:root:  Symbol: SOL/KRW, Ratio: 0.1, Buy_Amount_KRW: 5000.0 Buy_Amount_Symbol: 0.020162\n",
      "INFO:root:{'info': {'status': '0000', 'order_id': 'C0587000000685900652'}, 'symbol': 'SOL/KRW', 'type': 'market', 'side': 'buy', 'id': 'C0587000000685900652', 'fees': [], 'clientOrderId': None, 'timestamp': None, 'datetime': None, 'lastTradeTimestamp': None, 'lastUpdateTimestamp': None, 'price': None, 'amount': None, 'cost': None, 'average': None, 'filled': None, 'remaining': None, 'timeInForce': 'IOC', 'postOnly': None, 'trades': [], 'reduceOnly': None, 'stopPrice': None, 'triggerPrice': None, 'takeProfitPrice': None, 'stopLossPrice': None, 'status': None, 'fee': None}\n",
      "INFO:root:  Symbol: LINK/KRW, Ratio: 0.1, Buy_Amount_KRW: 5000.0 Buy_Amount_Symbol: 0.215239\n",
      "INFO:root:{'info': {'status': '0000', 'order_id': 'C0168000000487268256'}, 'symbol': 'LINK/KRW', 'type': 'market', 'side': 'buy', 'id': 'C0168000000487268256', 'fees': [], 'clientOrderId': None, 'timestamp': None, 'datetime': None, 'lastTradeTimestamp': None, 'lastUpdateTimestamp': None, 'price': None, 'amount': None, 'cost': None, 'average': None, 'filled': None, 'remaining': None, 'timeInForce': 'IOC', 'postOnly': None, 'trades': [], 'reduceOnly': None, 'stopPrice': None, 'triggerPrice': None, 'takeProfitPrice': None, 'stopLossPrice': None, 'status': None, 'fee': None}\n"
     ]
    }
   ],
   "source": [
    "for coin in portfolio:\n",
    "    amount = coin['buy_volume_krw'] / bithumb.fetch_ticker(coin['symbol'])[\"close\"]\n",
    "    amount = ceil(amount * 1000000) / 1000000.0\n",
    "    logging.info(f'''  Symbol: {coin['symbol']}, Ratio: {coin['ratio']}, Buy_Amount_KRW: {coin['buy_volume_krw']} Buy_Amount_Symbol: { amount }''')\n",
    "    \n",
    "    \n",
    "    resp = bithumb.create_market_buy_order(\n",
    "        symbol=coin['symbol'],\n",
    "        amount=amount\n",
    "    )\n",
    "    \n",
    "    logging.info(resp)"
   ]
  }
 ],
 "metadata": {
  "kernelspec": {
   "display_name": "base",
   "language": "python",
   "name": "python3"
  },
  "language_info": {
   "codemirror_mode": {
    "name": "ipython",
    "version": 3
   },
   "file_extension": ".py",
   "mimetype": "text/x-python",
   "name": "python",
   "nbconvert_exporter": "python",
   "pygments_lexer": "ipython3",
   "version": "3.12.9"
  }
 },
 "nbformat": 4,
 "nbformat_minor": 5
}
